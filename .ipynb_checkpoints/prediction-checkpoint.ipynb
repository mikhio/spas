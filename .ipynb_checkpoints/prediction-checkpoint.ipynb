{
 "cells": [
  {
   "cell_type": "code",
   "execution_count": 62,
   "id": "58cfb260-dec3-40eb-852b-25893e10b2f8",
   "metadata": {},
   "outputs": [],
   "source": [
    "import pandas as pd\n",
    "import matplotlib.pyplot as plt\n",
    "import numpy as np\n",
    "import time\n",
    "import datetime\n",
    "import pickle\n",
    "\n",
    "from sklearn.linear_model import LogisticRegression, LinearRegression, Lasso\n",
    "from sklearn.model_selection import train_test_split \n",
    "from sklearn import metrics, preprocessing, svm\n",
    "\n",
    "from statsmodels.tsa.api import ExponentialSmoothing, SimpleExpSmoothing, Holt\n",
    "\n",
    "from tsfresh import extract_features, extract_relevant_features, select_features\n",
    "from tsfresh.utilities.dataframe_functions import impute\n",
    "from tsfresh.feature_extraction import ComprehensiveFCParameters"
   ]
  },
  {
   "cell_type": "code",
   "execution_count": 115,
   "id": "69727eee-e785-4eb5-91fe-925794c50467",
   "metadata": {},
   "outputs": [
    {
     "data": {
      "text/html": [
       "<div>\n",
       "<style scoped>\n",
       "    .dataframe tbody tr th:only-of-type {\n",
       "        vertical-align: middle;\n",
       "    }\n",
       "\n",
       "    .dataframe tbody tr th {\n",
       "        vertical-align: top;\n",
       "    }\n",
       "\n",
       "    .dataframe thead th {\n",
       "        text-align: right;\n",
       "    }\n",
       "</style>\n",
       "<table border=\"1\" class=\"dataframe\">\n",
       "  <thead>\n",
       "    <tr style=\"text-align: right;\">\n",
       "      <th></th>\n",
       "      <th>date</th>\n",
       "      <th>cashback</th>\n",
       "      <th>id</th>\n",
       "    </tr>\n",
       "  </thead>\n",
       "  <tbody>\n",
       "    <tr>\n",
       "      <th>0</th>\n",
       "      <td>2022-02-10</td>\n",
       "      <td>681.27</td>\n",
       "      <td>0</td>\n",
       "    </tr>\n",
       "    <tr>\n",
       "      <th>1</th>\n",
       "      <td>2022-02-11</td>\n",
       "      <td>1171.52</td>\n",
       "      <td>0</td>\n",
       "    </tr>\n",
       "    <tr>\n",
       "      <th>2</th>\n",
       "      <td>2022-02-12</td>\n",
       "      <td>1068.24</td>\n",
       "      <td>0</td>\n",
       "    </tr>\n",
       "    <tr>\n",
       "      <th>3</th>\n",
       "      <td>2022-02-13</td>\n",
       "      <td>1023.07</td>\n",
       "      <td>0</td>\n",
       "    </tr>\n",
       "    <tr>\n",
       "      <th>4</th>\n",
       "      <td>2022-02-14</td>\n",
       "      <td>559.56</td>\n",
       "      <td>0</td>\n",
       "    </tr>\n",
       "    <tr>\n",
       "      <th>...</th>\n",
       "      <td>...</td>\n",
       "      <td>...</td>\n",
       "      <td>...</td>\n",
       "    </tr>\n",
       "    <tr>\n",
       "      <th>27297</th>\n",
       "      <td>2022-10-29</td>\n",
       "      <td>195.97</td>\n",
       "      <td>2547</td>\n",
       "    </tr>\n",
       "    <tr>\n",
       "      <th>27298</th>\n",
       "      <td>2022-10-30</td>\n",
       "      <td>223.59</td>\n",
       "      <td>2547</td>\n",
       "    </tr>\n",
       "    <tr>\n",
       "      <th>27299</th>\n",
       "      <td>2022-10-31</td>\n",
       "      <td>153.72</td>\n",
       "      <td>2547</td>\n",
       "    </tr>\n",
       "    <tr>\n",
       "      <th>27300</th>\n",
       "      <td>2022-11-01</td>\n",
       "      <td>387.80</td>\n",
       "      <td>2547</td>\n",
       "    </tr>\n",
       "    <tr>\n",
       "      <th>27301</th>\n",
       "      <td>2022-11-02</td>\n",
       "      <td>302.12</td>\n",
       "      <td>2547</td>\n",
       "    </tr>\n",
       "  </tbody>\n",
       "</table>\n",
       "<p>27302 rows × 3 columns</p>\n",
       "</div>"
      ],
      "text/plain": [
       "             date  cashback    id\n",
       "0      2022-02-10    681.27     0\n",
       "1      2022-02-11   1171.52     0\n",
       "2      2022-02-12   1068.24     0\n",
       "3      2022-02-13   1023.07     0\n",
       "4      2022-02-14    559.56     0\n",
       "...           ...       ...   ...\n",
       "27297  2022-10-29    195.97  2547\n",
       "27298  2022-10-30    223.59  2547\n",
       "27299  2022-10-31    153.72  2547\n",
       "27300  2022-11-01    387.80  2547\n",
       "27301  2022-11-02    302.12  2547\n",
       "\n",
       "[27302 rows x 3 columns]"
      ]
     },
     "execution_count": 115,
     "metadata": {},
     "output_type": "execute_result"
    }
   ],
   "source": [
    "# read data\n",
    "df = pd.read_csv('data/train_data.csv')\n",
    "df.drop(['merchant_name'], axis=1, inplace=True)\n",
    "df.drop(['category'], axis=1, inplace=True)\n",
    "df"
   ]
  },
  {
   "cell_type": "code",
   "execution_count": 65,
   "id": "5e7380c0-ba97-4aaa-8a65-ce8c861736e0",
   "metadata": {},
   "outputs": [],
   "source": [
    "def model_predict(data, model):\n",
    "    extraction_settings = ComprehensiveFCParameters()\n",
    "\n",
    "    X = extract_features(data, column_id='id', column_sort='date', column_value='cashback',\n",
    "                     default_fc_parameters=extraction_settings,\n",
    "                     # we impute = remove all NaN features automatically\n",
    "                     impute_function=impute)\n",
    "\n",
    "    X = X[[\n",
    "        'cashback__kurtosis',\n",
    "        'cashback__mean_second_derivative_central',\n",
    "        'cashback__fft_aggregated__aggtype_\"variance\"',\n",
    "        'cashback__agg_autocorrelation__f_agg_\"var\"__maxlag_40',\n",
    "        'cashback__fft_aggregated__aggtype_\"centroid\"',\n",
    "        'cashback__cid_ce__normalize_True',\n",
    "        'cashback__cid_ce__normalize_False',\n",
    "        'cashback__variation_coefficient',\n",
    "        'cashback__skewness'\n",
    "    ]]\n",
    "    \n",
    "    return int(model.predict(X)[0])"
   ]
  },
  {
   "cell_type": "code",
   "execution_count": 154,
   "id": "579062b3-c2ef-4570-8b0f-83cbc29f21e3",
   "metadata": {},
   "outputs": [],
   "source": [
    "def test_model(all_data, model, tests=10):\n",
    "    s_mae = 0\n",
    "    s_mse = 0\n",
    "    s_tinkoff_metric = 0\n",
    "\n",
    "    s_tests = 0\n",
    "    while s_tests < tests:\n",
    "        rid = int(np.random.random()*100)%len(set(all_data['id']))\n",
    "        dx = all_data.loc[all_data['id'] == rid]\n",
    "        if len(dx.index) > 10:\n",
    "            r_ind = 1+int(np.random.random()*100)%(len(dx.index)-6)\n",
    "            test_data = dx[:r_ind]\n",
    "            test_out = dx[r_ind:r_ind+5]['cashback'].sum()\n",
    "            pred = model_predict(test_data, model)\n",
    "            \n",
    "            s_mae += abs(test_out-pred)\n",
    "            s_mse += (test_out-pred)**2\n",
    "            s_tinkoff_metric += (test_out - 5*pred)\n",
    "            s_tests += 1\n",
    "            \n",
    "    return (tests, s_mae/tests, s_mse**0.5/tests, s_tinkoff_metric/tests)\n",
    "        "
   ]
  },
  {
   "cell_type": "code",
   "execution_count": 232,
   "id": "d153b34d-0b9e-41a6-b9dd-954fed5da05f",
   "metadata": {},
   "outputs": [],
   "source": [
    "def test_site(all_data, tests=10):\n",
    "    s_tinkoff_metric = 0\n",
    "\n",
    "    s_tests = 0\n",
    "    batch_size = 3\n",
    "    \n",
    "    while s_tests < tests:\n",
    "        rid = int(np.random.random()*100)%len(set(all_data['id']))\n",
    "        dx = all_data.loc[all_data['id'] == rid]\n",
    "\n",
    "        budget = (dx['cashback'].sum())*np.random.random()\n",
    "        # POST partner\n",
    "        \n",
    "        if len(dx.index) > 10:\n",
    "            for i in range(0, len(dx.index), batch_size):\n",
    "                pass\n",
    "                # PUT cashback from dx[i:i+batch_size]\n",
    "                # GET partner info\n",
    "            s_tests+=1\n",
    "        # GET partner info -> spent_budget\n",
    "        s_tinkoff_metric += budget - 5*spent_budget\n",
    "    return s_tinkoff_metric/s_tests"
   ]
  },
  {
   "cell_type": "code",
   "execution_count": 233,
   "id": "13d317c3-fd49-4d21-b618-4f579f183d6e",
   "metadata": {},
   "outputs": [],
   "source": [
    "#test_site(df)"
   ]
  },
  {
   "cell_type": "code",
   "execution_count": 162,
   "id": "13fc17e0-fff5-4b93-afd5-bb69b9708aa1",
   "metadata": {},
   "outputs": [
    {
     "name": "stdout",
     "output_type": "stream",
     "text": [
      "[ 3.33953680e+02 -2.59930007e+01 -4.15590525e+00 -1.22823178e+04\n",
      " -6.13099526e+02  4.62742613e+02  1.34316447e+00  5.50078129e+03\n",
      " -5.73484366e+03]\n"
     ]
    }
   ],
   "source": [
    "# import model\n",
    "model = Lasso()\n",
    "with open('models/model_2.0.pkl', 'rb') as inp:\n",
    "    model = pickle.load(inp)\n",
    "    print(model.coef_)"
   ]
  },
  {
   "cell_type": "code",
   "execution_count": 165,
   "id": "3db9e19b-6130-4cf5-a1b4-160a9ea5c999",
   "metadata": {},
   "outputs": [
    {
     "name": "stderr",
     "output_type": "stream",
     "text": [
      "Feature Extraction: 100%|██████████████████████████████████████████████████████████████████████████████████████| 1/1 [00:00<00:00,  1.33it/s]\n",
      "Feature Extraction: 100%|██████████████████████████████████████████████████████████████████████████████████████| 1/1 [00:00<00:00,  1.26it/s]\n",
      "Feature Extraction: 100%|██████████████████████████████████████████████████████████████████████████████████████| 1/1 [00:00<00:00,  1.33it/s]\n",
      "Feature Extraction: 100%|██████████████████████████████████████████████████████████████████████████████████████| 1/1 [00:00<00:00,  1.31it/s]\n",
      "Feature Extraction: 100%|██████████████████████████████████████████████████████████████████████████████████████| 1/1 [00:00<00:00,  1.33it/s]\n",
      "Feature Extraction: 100%|██████████████████████████████████████████████████████████████████████████████████████| 1/1 [00:00<00:00,  1.29it/s]\n",
      "Feature Extraction: 100%|██████████████████████████████████████████████████████████████████████████████████████| 1/1 [00:00<00:00,  1.14it/s]\n",
      "Feature Extraction: 100%|██████████████████████████████████████████████████████████████████████████████████████| 1/1 [00:00<00:00,  1.24it/s]\n",
      "Feature Extraction: 100%|██████████████████████████████████████████████████████████████████████████████████████| 1/1 [00:00<00:00,  1.20it/s]\n",
      "Feature Extraction: 100%|██████████████████████████████████████████████████████████████████████████████████████| 1/1 [00:00<00:00,  1.21it/s]\n"
     ]
    },
    {
     "data": {
      "text/plain": [
       "(10, 5251.195999999999, 2035.1593806461449, -33101.191999999995)"
      ]
     },
     "execution_count": 165,
     "metadata": {},
     "output_type": "execute_result"
    }
   ],
   "source": [
    "test_model(df, model)"
   ]
  }
 ],
 "metadata": {
  "kernelspec": {
   "display_name": "Python 3 (ipykernel)",
   "language": "python",
   "name": "python3"
  },
  "language_info": {
   "codemirror_mode": {
    "name": "ipython",
    "version": 3
   },
   "file_extension": ".py",
   "mimetype": "text/x-python",
   "name": "python",
   "nbconvert_exporter": "python",
   "pygments_lexer": "ipython3",
   "version": "3.11.7"
  }
 },
 "nbformat": 4,
 "nbformat_minor": 5
}
